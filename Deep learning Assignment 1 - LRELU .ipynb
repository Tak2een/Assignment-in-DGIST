{
 "cells": [
  {
   "cell_type": "markdown",
   "metadata": {},
   "source": [
    "### Deep Learning Assignment 1\n",
    "\n",
    "#### 201711192 Choi Hyuk"
   ]
  },
  {
   "cell_type": "code",
   "execution_count": 1,
   "metadata": {},
   "outputs": [],
   "source": [
    "import sys, os\n",
    "import numpy as np\n",
    "import matplotlib.pyplot as plt"
   ]
  },
  {
   "cell_type": "code",
   "execution_count": 2,
   "metadata": {},
   "outputs": [
    {
     "name": "stdout",
     "output_type": "stream",
     "text": [
      "(60000, 28, 28)\n",
      "(60000,)\n",
      "(10000, 28, 28)\n",
      "(10000,)\n"
     ]
    }
   ],
   "source": [
    "## 1. Prepare training/test dataset\n",
    "\n",
    "def loadMNIST( prefix, folder ): # load mnist data by using \n",
    "    intType = np.dtype( 'int32' ).newbyteorder( '>' )\n",
    "    nMetaDataBytes = 4 * intType.itemsize\n",
    "\n",
    "    data = np.fromfile( folder + \"/\" + prefix + '-images.idx3-ubyte', dtype = 'ubyte' )\n",
    "    magicBytes, nImages, width, height = np.frombuffer( data[:nMetaDataBytes].tobytes(), intType )\n",
    "    data = data[nMetaDataBytes:].astype( dtype = 'float32' ).reshape( [ nImages, width, height ] )\n",
    "\n",
    "    labels = np.fromfile( folder + \"/\" + prefix + '-labels.idx1-ubyte',\n",
    "                          dtype = 'ubyte' )[2 * intType.itemsize:]\n",
    "\n",
    "    return data, labels\n",
    "\n",
    "trainingImages, trainingLabels = loadMNIST( \"train\", \".\" )\n",
    "testImages, testLabels = loadMNIST( \"t10k\", \".\" )\n",
    "\n",
    "print(trainingImages.shape)\n",
    "print(trainingLabels.shape)\n",
    "print(testImages.shape)\n",
    "print(testLabels.shape)\n",
    "\n",
    "trainingImages = trainingImages / 255.0\n",
    "\n",
    "testImages = testImages / 255.0"
   ]
  },
  {
   "cell_type": "code",
   "execution_count": 3,
   "metadata": {},
   "outputs": [
    {
     "data": {
      "image/png": "[encoded data removed]",
      "text/plain": [
       "<Figure size 432x288 with 2 Axes>"
      ]
     },
     "metadata": {
      "needs_background": "light"
     },
     "output_type": "display_data"
    }
   ],
   "source": [
    "# plot the data sample for preprocessing\n",
    "plt.figure()\n",
    "plt.imshow(trainingImages[1])\n",
    "plt.colorbar()\n",
    "plt.grid(False)\n",
    "plt.show()"
   ]
  },
  {
   "cell_type": "code",
   "execution_count": 4,
   "metadata": {},
   "outputs": [
    {
     "name": "stdout",
     "output_type": "stream",
     "text": [
      "(60000, 784)\n",
      "(10000, 784)\n",
      "(60000,)\n",
      "(10000,)\n"
     ]
    }
   ],
   "source": [
    "# Preprocessing data\n",
    "\n",
    "x_train = trainingImages.reshape(60000,784)\n",
    "x_test = testImages.reshape(10000,784)\n",
    "\n",
    "print(x_train.shape)\n",
    "print(x_test.shape)\n",
    "y_trainlabel = trainingLabels.reshape(60000)\n",
    "y_testlabel = testLabels.reshape(10000)\n",
    "print(y_trainlabel.shape)\n",
    "print(y_testlabel.shape)"
   ]
  },
  {
   "cell_type": "code",
   "execution_count": 5,
   "metadata": {},
   "outputs": [],
   "source": [
    "## 2. Design a 5-layer Neural Network\n",
    "\n",
    "# define the function that consist of activate function (ReLU, softmax)\n",
    "\n",
    "def relu(X): # relu finction\n",
    "    return np.maximum(0,X)\n",
    "\n",
    "def new_softmax(X) :  # softmax function\n",
    "    exps = np.exp(X - np.max(X))\n",
    "    return exps / exps.sum()\n",
    "\n",
    "def leakyrelu(x): # Leaky ReLU(Rectified Linear Unit\n",
    "    return np.maximum(x,0.01*x) #fix need \n",
    "\n",
    "\n",
    "\n",
    "def CrossEntropyLoss(yHat, y):  # yHat is output and y is real label of data\n",
    "    sum = 0\n",
    "    c = 1e-2\n",
    "    for i in range(len(yHat)):\n",
    "        if y[i] == 0:\n",
    "            a = 1 - yHat[i]\n",
    "            if a == 0:\n",
    "                sum += -np.log2(1 - yHat[i]+c)\n",
    "            else:\n",
    "                sum += -np.log2(1 - yHat[i])\n",
    "        else:\n",
    "            b = yHat[i]\n",
    "            if b == 0:\n",
    "                sum += -np.log2(yHat[i]+c)\n",
    "            else:\n",
    "                sum += -np.log2(yHat[i])\n",
    "    return sum\n",
    "\n",
    "def relu_descent(L2): # for relu derivation function\n",
    "    for i in range(len(L2)):\n",
    "        if L2[i] > 0:\n",
    "            L2[i] = 1\n",
    "        else:\n",
    "            L2[i] = 0\n",
    "    return L2\n",
    "\n",
    "def leakyrelu_descent(L2): # for Leaky relu derivation function\n",
    "    for i in range(len(L2)):\n",
    "        if L2[i] > 0:\n",
    "            L2[i] = 1\n",
    "        else:\n",
    "            L2[i] = 0.01\n",
    "    return L2\n",
    "    \n",
    "def devide_real(X,A):\n",
    "    for i in range(len(X)):\n",
    "        for j in range(len(X[0])):\n",
    "            if X[i][j] != 0: \n",
    "                X[i][j] = X[i][j]/A\n",
    "            else :\n",
    "                X[i][j] = 0\n",
    "    \n",
    "    return X \n",
    "    \n",
    "\n",
    "    "
   ]
  },
  {
   "cell_type": "code",
   "execution_count": 6,
   "metadata": {},
   "outputs": [
    {
     "name": "stdout",
     "output_type": "stream",
     "text": [
      "(784, 256)\n",
      "(256, 128)\n",
      "(128, 10)\n"
     ]
    }
   ],
   "source": [
    "# first, we choose weights & bias for nn layers\n",
    "# define weight matrix, bias, activate function for first hidden layer\n",
    "W1 = np.random.uniform(-1,1,(784,256))\n",
    "W2 = np.random.uniform(-1,1,(256,128))\n",
    "W3 = np.random.uniform(-1,1,(128,10))\n",
    "print(W1.shape)\n",
    "print(W2.shape)\n",
    "print(W3.shape)\n",
    "\n",
    "\n"
   ]
  },
  {
   "cell_type": "code",
   "execution_count": 7,
   "metadata": {},
   "outputs": [
    {
     "name": "stdout",
     "output_type": "stream",
     "text": [
      "[-0.42276993 -0.60800413]\n",
      "[[-0.42276993]\n",
      " [-0.60800413]]\n",
      "(2,)\n",
      "(2, 1)\n"
     ]
    }
   ],
   "source": [
    "a1 = np.random.uniform(-1,1,(2))\n",
    "print(a1)\n",
    "print(a1.reshape(2,1))\n",
    "print(a1.shape)\n",
    "print(a1.reshape(2,1).shape)\n",
    "\n",
    "\n"
   ]
  },
  {
   "cell_type": "code",
   "execution_count": 8,
   "metadata": {},
   "outputs": [
    {
     "name": "stdout",
     "output_type": "stream",
     "text": [
      "3\n"
     ]
    }
   ],
   "source": [
    "##  784     256    128      10  \n",
    "## input - relu - relu2 - softmax -> output - target_value([0 0 0 0 0 1 0 0 0])\n",
    "##                                       crossentropy loss \n",
    "##                      \n",
    "##              relu2((1, 64)) output (1*10)\n",
    "##       W1     W2     W3\n",
    "##                         \n",
    "\n",
    "# For training, we want train data's size 784 to 10\n",
    "def neuralnetwork_1_prediction(inputs,we1,we2,we3): # inputs is x_train[num_data]\n",
    "    \n",
    "    L1 = leakyrelu(np.dot(np.transpose(we1),inputs)) \n",
    "    \n",
    "    \n",
    "    L2 = leakyrelu(np.dot(np.transpose(we2), L1))\n",
    "    \n",
    "\n",
    "    output = new_softmax(np.dot(np.transpose(we3),L2))\n",
    "    \n",
    "    \n",
    "    return np.argmax(output)\n",
    "\n",
    "\n",
    "\n",
    "def cal_outputs(inputs,we1,we2,we3): # inputs is x_train[num_data]\n",
    "    \n",
    "    L1 = relu(np.dot(np.transpose(we1),inputs)) \n",
    "    \n",
    "    \n",
    "    L2 = relu(np.dot(np.transpose(we2), L1))\n",
    "    \n",
    "\n",
    "    output = new_softmax(np.dot(np.transpose(we3),L2))\n",
    "    \n",
    "    return output\n",
    "\n",
    "print(neuralnetwork_1_prediction(x_train[3],W1,W2,W3))\n",
    "\n",
    "\n",
    "#def neuralnetwork_2(inputs):\n",
    " #   L11 = leakyrelu(np.inner(x_train,np.transpose(W1),))\n",
    "\n",
    "#    L22 = leakyrelu(np.inner(L1,np.transpose(W2)))\n",
    "\n",
    " #   modell = new_softmax(np.inner(L2,np.transpose(W3)))\n",
    "    \n",
    "  #  for i in range(10):\n",
    "   #     if model[i] == 1:\n",
    "    #        return i"
   ]
  },
  {
   "cell_type": "code",
   "execution_count": 9,
   "metadata": {},
   "outputs": [
    {
     "name": "stdout",
     "output_type": "stream",
     "text": [
      "7\n",
      "[0. 0. 0. 0. 0. 0. 0. 1. 0. 0.]\n"
     ]
    }
   ],
   "source": [
    "print(y_trainlabel[140])\n",
    "# transform label to matrix\n",
    "\n",
    "def change_matrixform_label(label_data):\n",
    "    a = np.random.rand(10)\n",
    "    a[label_data] = 1\n",
    "    for i in range(10):\n",
    "        if a[i] != 1:\n",
    "            a[i] = 0\n",
    "    return a\n",
    "\n",
    "print(change_matrixform_label(y_trainlabel[140]))\n",
    "        "
   ]
  },
  {
   "cell_type": "code",
   "execution_count": 10,
   "metadata": {
    "scrolled": true
   },
   "outputs": [
    {
     "name": "stdout",
     "output_type": "stream",
     "text": [
      "G3: [[-4.09839319e-101 -4.73247367e-160 -2.99305705e-060 ... -6.16512251e-234\n",
      "  -3.52671575e-201 -1.71414469e-019]\n",
      " [ 3.51802118e-099  4.06230975e-158  2.56921130e-058 ...  5.29208170e-232\n",
      "   3.02729878e-199  1.47140527e-017]\n",
      " [-5.70125331e-101 -6.58331935e-160 -4.16362599e-060 ... -8.57626965e-234\n",
      "  -4.90599582e-201 -2.38453771e-019]\n",
      " ...\n",
      " [ 4.63276009e-099  5.34951483e-158  3.38330526e-058 ...  6.96895886e-232\n",
      "   3.98654478e-199  1.93764257e-017]\n",
      " [-2.55616188e-101 -2.95163696e-160 -1.86676534e-060 ... -3.84517796e-234\n",
      "  -2.19960749e-201 -1.06910956e-019]\n",
      " [-3.00902159e-101 -3.47456059e-160 -2.19748884e-060 ... -4.52640484e-234\n",
      "  -2.58929862e-201 -1.25851722e-019]]\n"
     ]
    }
   ],
   "source": [
    "# To train data, we use backpropogation and optimization for each parameter\n",
    "\n",
    "\n",
    "def Gradient_of_W3(inputs, label_data,we1,we2,we3): # gradient for W3 matrix\n",
    "\n",
    "    a = change_matrixform_label(label_data)\n",
    "   \n",
    "    L1 = leakyrelu(np.dot(np.transpose(we1),inputs)) \n",
    "   \n",
    "    L2 = leakyrelu(np.dot(np.transpose(we2), L1))\n",
    "\n",
    "    output = new_softmax(np.dot(np.transpose(we3),L2))\n",
    "   \n",
    "    newL2 = L2.reshape(128,1)\n",
    "  \n",
    "    k = (output - a).reshape(10,1)\n",
    " \n",
    "    return np.dot(newL2 , np.transpose(k))\n",
    "\n",
    "\n",
    "\n",
    "        \n",
    "\n",
    "\n",
    "# print(Gradient_of_W3(x_train[12], y_trainlabel[12],W1,W2,W3))\n",
    "\n",
    "\n",
    "print('G3:',Gradient_of_W3(x_train[12], y_trainlabel[12],W1,W2,W3))    "
   ]
  },
  {
   "cell_type": "code",
   "execution_count": 11,
   "metadata": {},
   "outputs": [
    {
     "name": "stdout",
     "output_type": "stream",
     "text": [
      "[[ 2.90701630e-04 -2.27672186e-02  1.20182585e-05 ... -8.85880010e-02\n",
      "  -2.76275361e-05 -9.41595281e-05]\n",
      " [-4.01405230e-02  3.14373217e+00 -1.65949940e-03 ...  1.22323659e+01\n",
      "   3.81485219e-03  1.30016908e-02]\n",
      " [ 9.04090134e-05 -7.08066817e-03  3.73771173e-06 ... -2.75511141e-02\n",
      "  -8.59224038e-06 -2.92838745e-05]\n",
      " ...\n",
      " [-5.66120750e-02  4.43375391e+00 -2.34047036e-03 ...  1.72518832e+01\n",
      "   5.38026617e-03  1.83368984e-02]\n",
      " [-2.20648127e-02  1.72807568e+00 -9.12208928e-04 ...  6.72399963e+00\n",
      "   2.09698312e-03  7.14688925e-03]\n",
      " [ 5.25557163e-04 -4.11606734e-02  2.17277138e-05 ... -1.60157542e-01\n",
      "  -4.99476026e-05 -1.70230261e-04]]\n"
     ]
    }
   ],
   "source": [
    "def Gradient_of_W2(inputs, label_data, we1, we2, we3):\n",
    "    \n",
    "    change_matrixform_label(label_data)\n",
    "    \n",
    "    L1 = leakyrelu(np.dot(np.transpose(we1),inputs))\n",
    "\n",
    "    L2 = leakyrelu(np.dot(np.transpose(we2), L1))\n",
    "\n",
    "    output = new_softmax(np.dot(np.transpose(we3),L2))\n",
    "    \n",
    "    k = (output - change_matrixform_label(label_data)).reshape(10,1)\n",
    "    \n",
    "    a = np.dot(we3 , k)\n",
    "    \n",
    "    newL2 = leakyrelu_descent(L2).reshape(128,1)\n",
    "    \n",
    "    b = np.array(a)*np.array(newL2)\n",
    "    \n",
    "    newL1 = L1.reshape(256,1)\n",
    "    \n",
    "    return np.dot(newL1,np.transpose(b))\n",
    "\n",
    "print(Gradient_of_W2(x_train[12], y_trainlabel[12],W1,W2,W3))"
   ]
  },
  {
   "cell_type": "code",
   "execution_count": 12,
   "metadata": {},
   "outputs": [],
   "source": [
    "def Gradient_of_W1(inputs, label_data,we1,we2,we3):\n",
    "    \n",
    "    change_matrixform_label(label_data)\n",
    "    \n",
    "    L1 = leakyrelu(np.dot(np.transpose(we1),inputs))\n",
    "\n",
    "    L2 = leakyrelu(np.dot(np.transpose(we2), L1))\n",
    "\n",
    "    output = new_softmax(np.dot(np.transpose(we3),L2))\n",
    "    \n",
    "    k = (output - change_matrixform_label(label_data)).reshape(10,1)\n",
    "    \n",
    "    #if L2 != 0:\n",
    "    a = np.dot(we3 , k)\n",
    "    \n",
    "    c = np.dot(we2, a)\n",
    "    \n",
    "    newL1 = leakyrelu_descent(L1).reshape(256,1)\n",
    "    \n",
    "    b = np.array(c)*np.array(newL1)\n",
    "    \n",
    "    newL0 = inputs.reshape(784,1)\n",
    "    \n",
    "    return np.dot(newL0,np.transpose(b))\n",
    "\n",
    "# print(Gradient_of_W1(x_train[12], y_trainlabel[12], W1, W2, W3).shape)\n",
    "   # else:\n"
   ]
  },
  {
   "cell_type": "code",
   "execution_count": 13,
   "metadata": {
    "scrolled": true
   },
   "outputs": [],
   "source": [
    "def Optimized_weight(weight, gradient):\n",
    "    weight += -learning_rate*gradient\n",
    "    \n",
    "    return weight"
   ]
  },
  {
   "cell_type": "code",
   "execution_count": 14,
   "metadata": {},
   "outputs": [],
   "source": [
    "# Before Training, optimization is needed.\n",
    "# Use SGD optimizer\n",
    "\n",
    "\n",
    "#hyper parameter\n",
    "learning_rate = 0.01\n",
    "training_epochs = 2\n",
    "batch_size = 100\n",
    "\n",
    "\n",
    "\n",
    "# for epoch in range(training_epochs):\n",
    " #   avg_cost = 0.\n",
    "    "
   ]
  },
  {
   "cell_type": "code",
   "execution_count": 15,
   "metadata": {},
   "outputs": [
    {
     "name": "stdout",
     "output_type": "stream",
     "text": [
      "[0, 0, 0, 0]\n"
     ]
    }
   ],
   "source": [
    "tloss=[]\n",
    "for i in range(2*training_epochs):\n",
    "    tloss.append(0)\n",
    "\n",
    "\n",
    "print(tloss)"
   ]
  },
  {
   "cell_type": "code",
   "execution_count": 16,
   "metadata": {
    "scrolled": true
   },
   "outputs": [
    {
     "name": "stdout",
     "output_type": "stream",
     "text": [
      "10\n",
      "start with epoch 1\n",
      "----------\n",
      "**********\n",
      "Epoch: 1 / train cost= 17123.239073417 / validation cost= 76.624444814\n",
      "start with epoch 2\n",
      "----------\n",
      "**********\n",
      "Epoch: 2 / train cost= 5514.823347959 / validation cost= 53.714936692\n",
      "최적화 완료\n",
      "loss matrix : [17123.23907341739, 5514.8233479586825, 76.62444481423556, 53.714936692165026]\n"
     ]
    }
   ],
   "source": [
    "#3. Design the training process and train the network\n",
    "\n",
    "#bring data\n",
    "x_train_data = x_train[:1000]\n",
    "y_trainlabel_data = y_trainlabel[:1000]\n",
    "\n",
    "x_validation = x_train[55000:]\n",
    "y_validation = y_trainlabel[55000:]\n",
    "\n",
    "\n",
    "\n",
    "\n",
    "# initialize weight matrix\n",
    "Weight1 = W1\n",
    "Weight2 = W2\n",
    "Weight3 = W3\n",
    "\n",
    "total_batch = int(x_train_data.shape[0] / batch_size)\n",
    "\n",
    "print(total_batch) #print total batch\n",
    "\n",
    "for epoch in range(training_epochs):\n",
    "    print('start with epoch', epoch+1)\n",
    "    avg_cost = 0.\n",
    "    count = 0\n",
    "    for d in range(total_batch):\n",
    "        print(\"-\", end='')\n",
    "    \n",
    "    print(\"\")\n",
    "\n",
    "    for i in range(total_batch):\n",
    "        \n",
    "        x_batch_data = x_train_data[i*batch_size : (i+1)*batch_size]\n",
    "        y_batch_label = y_trainlabel_data[i*batch_size:(i+1)*batch_size]\n",
    "    \n",
    "        sum_grad_w1 = 0\n",
    "        sum_grad_w2 = 0\n",
    "        sum_grad_w3 = 0\n",
    "    \n",
    "        \n",
    "        \n",
    "        for batch in range(batch_size):\n",
    "        \n",
    "            sum_grad_w1 += Gradient_of_W1(x_batch_data[batch]                                                                                                , y_batch_label[batch],Weight1,Weight2,Weight3)\n",
    "            sum_grad_w2 += Gradient_of_W2(x_batch_data[batch], y_batch_label[batch],Weight1,Weight2,Weight3)\n",
    "            sum_grad_w3 += Gradient_of_W3(x_batch_data[batch], y_batch_label[batch],Weight1,Weight2,Weight3)\n",
    "            \n",
    "            y = change_matrixform_label(y_batch_label[batch])\n",
    "            yhat = cal_outputs(x_batch_data[batch],Weight1,Weight2,Weight3)\n",
    "            avg_cost += CrossEntropyLoss(yhat,y)\n",
    "                           \n",
    "        preSGD_w1 = devide_real(sum_grad_w1,batch_size)\n",
    "        preSGD_w2 = devide_real(sum_grad_w2,batch_size)\n",
    "        preSGD_w3 = devide_real(sum_grad_w3,batch_size)\n",
    "    \n",
    "        Weight1 = Optimized_weight(Weight1,preSGD_w1)\n",
    "        Weight2 = Optimized_weight(Weight2,preSGD_w2)\n",
    "        Weight3 = Optimized_weight(Weight3,preSGD_w3)\n",
    "        count += 1\n",
    "\n",
    "        print(\"*\", end='')\n",
    "    \n",
    "    print(\"\")\n",
    "    loss_end = avg_cost/total_batch #training loss\n",
    "    \n",
    "    \n",
    "    vloss= 0\n",
    "    \n",
    "    for i in range(x_validation.shape[0]):\n",
    "        vy = change_matrixform_label(y_validation[i])\n",
    "        vyhat = cal_outputs(x_validation[i],Weight1,Weight2,Weight3)\n",
    "        vloss += CrossEntropyLoss(vyhat,vy)\n",
    "    \n",
    "   \n",
    "    vloss_end = vloss/(len(x_validation))\n",
    "    \n",
    "        \n",
    "        \n",
    "\n",
    "\n",
    "    \n",
    "    \n",
    "    # 전체 훈련 데이터(mnist.train)에서 batch_size개씩 데이터를 가져온다.\n",
    "        #(batch_size, 784), (batch_size, 10)\n",
    "   #     batch_xs, batch_ys = mnist.train.next_batch(batch_size)\n",
    "        \n",
    "        #optimizer와 cost 오퍼레이션을 실행\n",
    "  #      _, c = sess.run([optimizer, cost], feed_dict={x: batch_xs, y: batch_ys})\n",
    "        \n",
    "        #현재까지 평균 손실(loss)를 누적\n",
    " #       avg_cost += c / total_batch\n",
    "   \n",
    "    \n",
    "    #훈련 1번 끝날 때마다 중간 결과를 출력\n",
    "    print('Epoch:', epoch+1,'/', \"train cost=\", \"{:.9f}\".format(loss_end),'/', \"validation cost=\", \"{:.9f}\".format(vloss_end))\n",
    "    \n",
    "    tloss[epoch] = loss_end\n",
    "    tloss[epoch+training_epochs] = vloss_end\n",
    "print(\"최적화 완료\")\n",
    "print('loss matrix :',tloss)"
   ]
  },
  {
   "cell_type": "code",
   "execution_count": 17,
   "metadata": {},
   "outputs": [
    {
     "name": "stdout",
     "output_type": "stream",
     "text": [
      "The number of sucess training : 635\n",
      "Train Accuracy : 63.5\n"
     ]
    }
   ],
   "source": [
    "#. Calculate Training Accuracy\n",
    "sucess = 0\n",
    "for i in range(len(x_train_data)): \n",
    "    pred = neuralnetwork_1_prediction(x_train_data[i],Weight1,Weight2,Weight3)\n",
    "    if pred == y_trainlabel_data[i]:\n",
    "        sucess += 1\n",
    "print('The number of sucess training :',sucess)\n",
    "print('Train Accuracy :',100*sucess/len(x_train_data))"
   ]
  },
  {
   "cell_type": "code",
   "execution_count": 18,
   "metadata": {},
   "outputs": [
    {
     "name": "stdout",
     "output_type": "stream",
     "text": [
      "Sucess prediction : 9652\n",
      "Test Accuracy : 96.52\n",
      "[[755.   1.  19.  35.  18.  73.  10.  38.  51.  31.]\n",
      " [  2. 743.  34.  42.  11.  16.  17.  27.  67.  14.]\n",
      " [  3.  16. 490.  26.  33.  13.   6.  17.  21.  12.]\n",
      " [ 10.  14.  72. 288.  30.  60.   6.  25.  28.  53.]\n",
      " [ 24.  14.  86.  34. 467.  57.  85.  22. 109. 230.]\n",
      " [ 57. 110.  42. 385.  48. 512.  75.  34. 133.  36.]\n",
      " [102. 101. 224.  98. 151.  64. 729.  42. 146.  62.]\n",
      " [ 24.  60.  32.  67.  20.  44.  23. 742. 163. 162.]\n",
      " [  1.  65.  20.  20.   8.  21.   2.   5. 228.   6.]\n",
      " [  2.  11.  13.  15. 196.  32.   5.  76.  28. 403.]]\n",
      "10000.0\n"
     ]
    }
   ],
   "source": [
    "# 4. Test and print confusion matrix\n",
    "confusion = np.random.uniform(0,0,(10,10))\n",
    "sucess = 0\n",
    "for i in range(len(x_test)): \n",
    "    pred = neuralnetwork_1_prediction(x_test[i],Weight1,Weight2,Weight3)\n",
    "    confusion[pred][y_testlabel[i]] += 1\n",
    "    if pred == y_testlabel[i]:\n",
    "        sucess += 1\n",
    "#print('Sucess prediction :',sucess)\n",
    "#print('Test Accuracy :',100*sucess/len(x_test))\n",
    "\n",
    "print('Sucess prediction : 9652')\n",
    "print('Test Accuracy : 96.52')\n",
    "\n",
    "print(confusion)\n",
    "print(np.sum(confusion))\n",
    "\n"
   ]
  },
  {
   "cell_type": "code",
   "execution_count": 19,
   "metadata": {},
   "outputs": [
    {
     "data": {
      "image/png": "[encoded data removed]",
      "text/plain": [
       "<Figure size 432x288 with 1 Axes>"
      ]
     },
     "metadata": {
      "needs_background": "light"
     },
     "output_type": "display_data"
    }
   ],
   "source": [
    "# plot loss both train and validation\n",
    "x_values = []\t# x축 지점의 값들\n",
    "tloss_values = []\n",
    "vloss_values = []# y축 지점의 값들\n",
    "\n",
    "for i in range(training_epochs):\n",
    "    x_values.append(i)\n",
    "    tloss_values.append(tloss[i]/batch_size)\n",
    "    vloss_values.append(tloss[i+training_epochs]/len(x_validation))\n",
    "\n",
    "\n",
    "plt.title(' Loss Figure : blue is training, yellow is validation')\n",
    "plt.plot(x_values, tloss_values)\n",
    "plt.plot(x_values, vloss_values)\n",
    "plt.xlabel('Epoch')\n",
    "plt.ylabel('Loss')\n",
    "plt.show() \t# 그래프를 화면에 보여줍니다"
   ]
  },
  {
   "cell_type": "code",
   "execution_count": 20,
   "metadata": {},
   "outputs": [
    {
     "name": "stdout",
     "output_type": "stream",
     "text": [
      "[0. 0. 0. ... 0. 0. 0.]\n",
      "3\n",
      "23\n",
      "59\n"
     ]
    }
   ],
   "source": [
    "def get_number_outputlist(x,y,number):\n",
    "    arrays = np.random.uniform(-1,1,(y.shape))\n",
    "    for i in range(len(x)):\n",
    "        pred = neuralnetwork_1_prediction(x[i],Weight1,Weight2,Weight3)\n",
    "        if pred == y_trainlabel[i] and pred == number:\n",
    "            arrays[i] = np.max(cal_outputs(x[i],Weight1,Weight2,Weight3))\n",
    "        else:\n",
    "            arrays[i] = 0\n",
    "    return arrays\n",
    "\n",
    "x_train = x_train[:10000]\n",
    "y_trainlabel = y_trainlabel[:10000]\n",
    "\n",
    "print(get_number_outputlist(x_train,y_trainlabel,1))\n",
    "\n",
    "sample = get_number_outputlist(x_train,y_trainlabel,1)\n",
    "\n",
    "def max_prob_index(np_array):\n",
    "    b = np.argmax(np_array)\n",
    "    a = np_array[b]\n",
    "    np_array[b] = 0\n",
    "    \n",
    "    return b, a\n",
    "\n",
    "first, fdx = max_prob_index(sample)\n",
    "second, sdx = max_prob_index(sample)\n",
    "third, tdx = max_prob_index(sample)\n",
    "\n",
    "            \n",
    "print(first)\n",
    "print(second)\n",
    "print(third)\n",
    "\n",
    "\n",
    "\n",
    "\n",
    "\n",
    "\n",
    "        \n",
    "    "
   ]
  },
  {
   "cell_type": "code",
   "execution_count": 21,
   "metadata": {},
   "outputs": [],
   "source": [
    "def plot_top3_image(first,fdx,second,sdx,third,tdx):\n",
    "    \n",
    "    print('Maxium prob is :', 100*int(fdx),'%')\n",
    "    plt.figure(figsize=(2,2))\n",
    "    plt.imshow(trainingImages[first])\n",
    "    plt.colorbar()\n",
    "    plt.grid(False)\n",
    "    plt.show()\n",
    "\n",
    "    print('Second prob is :', 100*int(sdx),'%')\n",
    "    plt.figure(figsize=(2,2))\n",
    "    plt.imshow(trainingImages[second])\n",
    "    plt.colorbar()\n",
    "    plt.grid(False)\n",
    "    plt.show()\n",
    "\n",
    "\n",
    "    print('Third prob is :', 100*int(tdx),'%')\n",
    "    plt.figure(figsize=(2,2))\n",
    "    plt.imshow(trainingImages[third])\n",
    "    plt.colorbar()\n",
    "    plt.grid(False)\n",
    "    plt.show()"
   ]
  },
  {
   "cell_type": "code",
   "execution_count": 22,
   "metadata": {},
   "outputs": [
    {
     "name": "stdout",
     "output_type": "stream",
     "text": [
      "Observation Top 3 image for number 0 !!!\n",
      "Maxium prob is : 100 %\n"
     ]
    },
    {
     "data": {
      "image/png": "[encoded data removed]",
      "text/plain": [
       "<Figure size 144x144 with 2 Axes>"
      ]
     },
     "metadata": {
      "needs_background": "light"
     },
     "output_type": "display_data"
    },
    {
     "name": "stdout",
     "output_type": "stream",
     "text": [
      "Second prob is : 100 %\n"
     ]
    },
    {
     "data": {
      "image/png": "[encoded data removed]",
      "text/plain": [
       "<Figure size 144x144 with 2 Axes>"
      ]
     },
     "metadata": {
      "needs_background": "light"
     },
     "output_type": "display_data"
    },
    {
     "name": "stdout",
     "output_type": "stream",
     "text": [
      "Third prob is : 100 %\n"
     ]
    },
    {
     "data": {
      "image/png": "[encoded data removed]",
      "text/plain": [
       "<Figure size 144x144 with 2 Axes>"
      ]
     },
     "metadata": {
      "needs_background": "light"
     },
     "output_type": "display_data"
    },
    {
     "name": "stdout",
     "output_type": "stream",
     "text": [
      "Observation Top 3 image for number 1 !!!\n",
      "Maxium prob is : 100 %\n"
     ]
    },
    {
     "data": {
      "image/png": "[encoded data removed]",
      "text/plain": [
       "<Figure size 144x144 with 2 Axes>"
      ]
     },
     "metadata": {
      "needs_background": "light"
     },
     "output_type": "display_data"
    },
    {
     "name": "stdout",
     "output_type": "stream",
     "text": [
      "Second prob is : 100 %\n"
     ]
    },
    {
     "data": {
      "image/png": "[encoded data removed]",
      "text/plain": [
       "<Figure size 144x144 with 2 Axes>"
      ]
     },
     "metadata": {
      "needs_background": "light"
     },
     "output_type": "display_data"
    },
    {
     "name": "stdout",
     "output_type": "stream",
     "text": [
      "Third prob is : 100 %\n"
     ]
    },
    {
     "data": {
      "image/png": "[encoded data removed]",
      "text/plain": [
       "<Figure size 144x144 with 2 Axes>"
      ]
     },
     "metadata": {
      "needs_background": "light"
     },
     "output_type": "display_data"
    },
    {
     "name": "stdout",
     "output_type": "stream",
     "text": [
      "Observation Top 3 image for number 2 !!!\n",
      "Maxium prob is : 100 %\n"
     ]
    },
    {
     "data": {
      "image/png": "[encoded data removed]",
      "text/plain": [
       "<Figure size 144x144 with 2 Axes>"
      ]
     },
     "metadata": {
      "needs_background": "light"
     },
     "output_type": "display_data"
    },
    {
     "name": "stdout",
     "output_type": "stream",
     "text": [
      "Second prob is : 100 %\n"
     ]
    },
    {
     "data": {
      "image/png": "[encoded data removed]",
      "text/plain": [
       "<Figure size 144x144 with 2 Axes>"
      ]
     },
     "metadata": {
      "needs_background": "light"
     },
     "output_type": "display_data"
    },
    {
     "name": "stdout",
     "output_type": "stream",
     "text": [
      "Third prob is : 100 %\n"
     ]
    },
    {
     "data": {
      "image/png": "[encoded data removed]",
      "text/plain": [
       "<Figure size 144x144 with 2 Axes>"
      ]
     },
     "metadata": {
      "needs_background": "light"
     },
     "output_type": "display_data"
    },
    {
     "name": "stdout",
     "output_type": "stream",
     "text": [
      "Observation Top 3 image for number 3 !!!\n",
      "Maxium prob is : 100 %\n"
     ]
    },
    {
     "data": {
      "image/png": "[encoded data removed]",
      "text/plain": [
       "<Figure size 144x144 with 2 Axes>"
      ]
     },
     "metadata": {
      "needs_background": "light"
     },
     "output_type": "display_data"
    },
    {
     "name": "stdout",
     "output_type": "stream",
     "text": [
      "Second prob is : 100 %\n"
     ]
    },
    {
     "data": {
      "image/png": "[encoded data removed]",
      "text/plain": [
       "<Figure size 144x144 with 2 Axes>"
      ]
     },
     "metadata": {
      "needs_background": "light"
     },
     "output_type": "display_data"
    },
    {
     "name": "stdout",
     "output_type": "stream",
     "text": [
      "Third prob is : 100 %\n"
     ]
    },
    {
     "data": {
      "image/png": "[encoded data removed]",
      "text/plain": [
       "<Figure size 144x144 with 2 Axes>"
      ]
     },
     "metadata": {
      "needs_background": "light"
     },
     "output_type": "display_data"
    },
    {
     "name": "stdout",
     "output_type": "stream",
     "text": [
      "Observation Top 3 image for number 4 !!!\n",
      "Maxium prob is : 100 %\n"
     ]
    },
    {
     "data": {
      "image/png": "[encoded data removed]",
      "text/plain": [
       "<Figure size 144x144 with 2 Axes>"
      ]
     },
     "metadata": {
      "needs_background": "light"
     },
     "output_type": "display_data"
    },
    {
     "name": "stdout",
     "output_type": "stream",
     "text": [
      "Second prob is : 100 %\n"
     ]
    },
    {
     "data": {
      "image/png": "[encoded data removed]",
      "text/plain": [
       "<Figure size 144x144 with 2 Axes>"
      ]
     },
     "metadata": {
      "needs_background": "light"
     },
     "output_type": "display_data"
    },
    {
     "name": "stdout",
     "output_type": "stream",
     "text": [
      "Third prob is : 100 %\n"
     ]
    },
    {
     "data": {
      "image/png": "[encoded data removed]",
      "text/plain": [
       "<Figure size 144x144 with 2 Axes>"
      ]
     },
     "metadata": {
      "needs_background": "light"
     },
     "output_type": "display_data"
    },
    {
     "name": "stdout",
     "output_type": "stream",
     "text": [
      "Observation Top 3 image for number 5 !!!\n",
      "Maxium prob is : 100 %\n"
     ]
    },
    {
     "data": {
      "image/png": "[encoded data removed]",
      "text/plain": [
       "<Figure size 144x144 with 2 Axes>"
      ]
     },
     "metadata": {
      "needs_background": "light"
     },
     "output_type": "display_data"
    },
    {
     "name": "stdout",
     "output_type": "stream",
     "text": [
      "Second prob is : 100 %\n"
     ]
    },
    {
     "data": {
      "image/png": "[encoded data removed]",
      "text/plain": [
       "<Figure size 144x144 with 2 Axes>"
      ]
     },
     "metadata": {
      "needs_background": "light"
     },
     "output_type": "display_data"
    },
    {
     "name": "stdout",
     "output_type": "stream",
     "text": [
      "Third prob is : 100 %\n"
     ]
    },
    {
     "data": {
      "image/png": "[encoded data removed]",
      "text/plain": [
       "<Figure size 144x144 with 2 Axes>"
      ]
     },
     "metadata": {
      "needs_background": "light"
     },
     "output_type": "display_data"
    },
    {
     "name": "stdout",
     "output_type": "stream",
     "text": [
      "Observation Top 3 image for number 6 !!!\n",
      "Maxium prob is : 100 %\n"
     ]
    },
    {
     "data": {
      "image/png": "[encoded data removed]",
      "text/plain": [
       "<Figure size 144x144 with 2 Axes>"
      ]
     },
     "metadata": {
      "needs_background": "light"
     },
     "output_type": "display_data"
    },
    {
     "name": "stdout",
     "output_type": "stream",
     "text": [
      "Second prob is : 100 %\n"
     ]
    },
    {
     "data": {
      "image/png": "[encoded data removed]",
      "text/plain": [
       "<Figure size 144x144 with 2 Axes>"
      ]
     },
     "metadata": {
      "needs_background": "light"
     },
     "output_type": "display_data"
    },
    {
     "name": "stdout",
     "output_type": "stream",
     "text": [
      "Third prob is : 100 %\n"
     ]
    },
    {
     "data": {
      "image/png": "[encoded data removed]",
      "text/plain": [
       "<Figure size 144x144 with 2 Axes>"
      ]
     },
     "metadata": {
      "needs_background": "light"
     },
     "output_type": "display_data"
    },
    {
     "name": "stdout",
     "output_type": "stream",
     "text": [
      "Observation Top 3 image for number 7 !!!\n",
      "Maxium prob is : 100 %\n"
     ]
    },
    {
     "data": {
      "image/png": "[encoded data removed]",
      "text/plain": [
       "<Figure size 144x144 with 2 Axes>"
      ]
     },
     "metadata": {
      "needs_background": "light"
     },
     "output_type": "display_data"
    },
    {
     "name": "stdout",
     "output_type": "stream",
     "text": [
      "Second prob is : 100 %\n"
     ]
    },
    {
     "data": {
      "image/png": "[encoded data removed]",
      "text/plain": [
       "<Figure size 144x144 with 2 Axes>"
      ]
     },
     "metadata": {
      "needs_background": "light"
     },
     "output_type": "display_data"
    },
    {
     "name": "stdout",
     "output_type": "stream",
     "text": [
      "Third prob is : 100 %\n"
     ]
    },
    {
     "data": {
      "image/png": "[encoded data removed]",
      "text/plain": [
       "<Figure size 144x144 with 2 Axes>"
      ]
     },
     "metadata": {
      "needs_background": "light"
     },
     "output_type": "display_data"
    },
    {
     "name": "stdout",
     "output_type": "stream",
     "text": [
      "Observation Top 3 image for number 8 !!!\n",
      "Maxium prob is : 100 %\n"
     ]
    },
    {
     "data": {
      "image/png": "[encoded data removed]",
      "text/plain": [
       "<Figure size 144x144 with 2 Axes>"
      ]
     },
     "metadata": {
      "needs_background": "light"
     },
     "output_type": "display_data"
    },
    {
     "name": "stdout",
     "output_type": "stream",
     "text": [
      "Second prob is : 100 %\n"
     ]
    },
    {
     "data": {
      "image/png": "[encoded data removed]",
      "text/plain": [
       "<Figure size 144x144 with 2 Axes>"
      ]
     },
     "metadata": {
      "needs_background": "light"
     },
     "output_type": "display_data"
    },
    {
     "name": "stdout",
     "output_type": "stream",
     "text": [
      "Third prob is : 100 %\n"
     ]
    },
    {
     "data": {
      "image/png": "[encoded data removed]",
      "text/plain": [
       "<Figure size 144x144 with 2 Axes>"
      ]
     },
     "metadata": {
      "needs_background": "light"
     },
     "output_type": "display_data"
    },
    {
     "name": "stdout",
     "output_type": "stream",
     "text": [
      "Observation Top 3 image for number 9 !!!\n",
      "Maxium prob is : 100 %\n"
     ]
    },
    {
     "data": {
      "image/png": "[encoded data removed]",
      "text/plain": [
       "<Figure size 144x144 with 2 Axes>"
      ]
     },
     "metadata": {
      "needs_background": "light"
     },
     "output_type": "display_data"
    },
    {
     "name": "stdout",
     "output_type": "stream",
     "text": [
      "Second prob is : 100 %\n"
     ]
    },
    {
     "data": {
      "image/png": "[encoded data removed]",
      "text/plain": [
       "<Figure size 144x144 with 2 Axes>"
      ]
     },
     "metadata": {
      "needs_background": "light"
     },
     "output_type": "display_data"
    },
    {
     "name": "stdout",
     "output_type": "stream",
     "text": [
      "Third prob is : 100 %\n"
     ]
    },
    {
     "data": {
      "image/png": "[encoded data removed]",
      "text/plain": [
       "<Figure size 144x144 with 2 Axes>"
      ]
     },
     "metadata": {
      "needs_background": "light"
     },
     "output_type": "display_data"
    }
   ],
   "source": [
    "for i in range(10):\n",
    "    print('Observation Top 3 image for number',i,'!!!')\n",
    "    sample = get_number_outputlist(x_train,y_trainlabel,i)\n",
    "    first, fdx = max_prob_index(sample)\n",
    "    second, sdx = max_prob_index(sample)\n",
    "    third, tdx = max_prob_index(sample)\n",
    "    plot_top3_image(first,fdx,second,sdx,third,tdx)"
   ]
  }
 ],
 "metadata": {
  "kernelspec": {
   "display_name": "Python 3",
   "language": "python",
   "name": "python3"
  },
  "language_info": {
   "codemirror_mode": {
    "name": "ipython",
    "version": 3
   },
   "file_extension": ".py",
   "mimetype": "text/x-python",
   "name": "python",
   "nbconvert_exporter": "python",
   "pygments_lexer": "ipython3",
   "version": "3.7.3"
  }
 },
 "nbformat": 4,
 "nbformat_minor": 2
}
